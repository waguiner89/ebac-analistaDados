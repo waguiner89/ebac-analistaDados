{
  "nbformat": 4,
  "nbformat_minor": 0,
  "metadata": {
    "colab": {
      "provenance": []
    },
    "kernelspec": {
      "name": "python3",
      "display_name": "Python 3"
    },
    "language_info": {
      "name": "python"
    }
  },
  "cells": [
    {
      "cell_type": "code",
      "execution_count": null,
      "metadata": {
        "id": "Em_6iCJsQzGK"
      },
      "outputs": [],
      "source": [
        "continuar = \"S\"\n",
        "\n",
        "while continuar.upper() == \"S\":\n",
        "  num1 = float(input(\"Digite o primeiro número: \"))\n",
        "  num2 = float(input(\"Digite o segundo número: \"))\n",
        "  print(\"Digite o número da operação deseja realizar\")\n",
        "  op = int(input(\"1-Adição / 2-Subtração / 3-Multiplicação / 4-Divisão: \"))\n",
        "\n",
        "  if op == 1:\n",
        "    resultado = num1 + num2\n",
        "    print(f\"A soma de {num1}+{num2} = {resultado}\")\n",
        "    continuar = input(\"Digite S para realizar nova operação ou N para finalizar: \")\n",
        "  elif op == 2:\n",
        "    resultado = num1 - num2\n",
        "    print(f\"A subtração de {num1}-{num2} = {resultado}\")\n",
        "    continuar = input(\"Digite S para realizar nova operação ou N para finalizar: \")\n",
        "  elif op == 3:\n",
        "    resultado = num1 * num2\n",
        "    print(f\"A multiplicação de {num1}x{num2} = {resultado}\")\n",
        "    continuar = input(\"Digite S para realizar nova operação ou N para finalizar: \")\n",
        "  elif op == 4:\n",
        "    if num1 == 0 or num2 == 0:\n",
        "      print(\"Numerador ou denominador não podem ser zero!\")\n",
        "      continuar = input(\"Digite S para realizar nova operação ou N para finalizar: \")\n",
        "    else:\n",
        "      resultado = num1 / num2\n",
        "      print(f\"A divisão de {num1}/{num2} = {resultado}\")\n",
        "      continuar = input(\"Digite S para realizar nova operação ou N para finalizar: \")\n",
        "  else:\n",
        "    print|(\"Escolha entre 1 a 4!\")\n",
        "    continuar = input(\"Digite S para realizar nova operação ou N para finalizar: \")\n",
        "print(\"Finalizando...\")"
      ]
    }
  ]
}